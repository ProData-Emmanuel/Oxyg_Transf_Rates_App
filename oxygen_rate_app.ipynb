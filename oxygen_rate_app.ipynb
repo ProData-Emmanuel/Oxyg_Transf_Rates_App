{
 "cells": [
  {
   "cell_type": "markdown",
   "metadata": {},
   "source": [
    "Tools: To replicate this project, you will need to pip install:\n",
    "+ Streamlit\n",
    "+ numpy\n",
    "+ Matplotlib"
   ]
  },
  {
   "cell_type": "markdown",
   "metadata": {},
   "source": [
    "#### Method 1\n",
    "\n",
    "Implementing Jupyter Magic command (%%writefile) to write the script in the cell to \"rate_app.py\" file directly from the Jupyter Notebook"
   ]
  },
  {
   "cell_type": "code",
   "execution_count": null,
   "metadata": {},
   "outputs": [
    {
     "ename": "",
     "evalue": "",
     "output_type": "error",
     "traceback": [
      "\u001b[1;31mFailed to start the Kernel. \n",
      "\u001b[1;31mUnable to start Kernel 'Python 3.12.4' due to a timeout waiting for the ports to get used. \n",
      "\u001b[1;31mView Jupyter <a href='command:jupyter.viewOutput'>log</a> for further details."
     ]
    }
   ],
   "source": [
    "# Magic Commnad will save App code to a file named rate_app.py \n",
    "%%writefile rate_app.py\n",
    "\n",
    "# Import Python Modules\n",
    "import streamlit as st\n",
    "import matplotlib.pyplot as plt\n",
    "import numpy as np\n",
    "\n",
    "# Define Function to calculate the oxygen transfer rate\n",
    "def calculate_do(initial_do, volumetric_mass_transfer_coefficient, saturation_concentration_of_oxygen, time_hours):\n",
    "    do_values = [initial_do]\n",
    "\n",
    "    transfer_rate = volumetric_mass_transfer_coefficient * (saturation_concentration_of_oxygen - initial_do)\n",
    "    consumption_rate = (saturation_concentration_of_oxygen - initial_do) / time_hours\n",
    "\n",
    "    for _ in range(time_hours):\n",
    "        do_change = transfer_rate - consumption_rate\n",
    "        do_values.append(do_values[-1] + do_change)\n",
    "\n",
    "    return do_values, consumption_rate\n",
    "\n",
    "# Title for the App\n",
    "st.title(\"Oxygen Transfer Rate Calculator\")\n",
    "\n",
    "# The inputs for the Rate App\n",
    "initial_do = st.number_input(\"Initial Dissolved Oxygen (mg/L)\", min_value=0.0, max_value=20.0, value=8.0)\n",
    "volumetric_mass_transfer_coefficient = st.number_input(\"Volumetric Mass Transfer Coefficient\", min_value=0.0, value=0.1)\n",
    "saturation_concentration_of_oxygen = st.number_input(\"Saturation Concentration of Oxygen (mg/L)\", min_value=0.0, max_value=20.0, value=9.0)\n",
    "time_hours = st.number_input(\"Time (hours)\", min_value=1, max_value=100, value=10)\n",
    "\n",
    "# Calculate the Dissolved Oxygen (DO) over time and consumption rate\n",
    "if st.button(\"Calculate\"):\n",
    "    do_values, consumption_rate = calculate_do(initial_do, volumetric_mass_transfer_coefficient, saturation_concentration_of_oxygen, time_hours)\n",
    "\n",
    "    st.write(f\"Consumption Rate: {consumption_rate} mg/L per hour\")\n",
    "\n",
    "    # Plotting the results using matplotlib\n",
    "    plt.plot(range(time_hours + 1), do_values)\n",
    "    plt.xlabel(\"Time (hours)\")\n",
    "    plt.ylabel(\"Dissolved Oxygen (mg/L)\")\n",
    "    plt.title(\"Dissolved Oxygen Over Time\")\n",
    "    st.pyplot(plt)\n"
   ]
  },
  {
   "cell_type": "markdown",
   "metadata": {},
   "source": [
    "#### Method 2: \n",
    "Manually create a string (app_code) that ccontains the 'oxygen rate calculator app' code, and then write the script to a file named \"rate_app.py\":\n"
   ]
  },
  {
   "cell_type": "code",
   "execution_count": 1,
   "metadata": {},
   "outputs": [],
   "source": [
    "app_code = \"\"\"\n",
    "\n",
    "import streamlit as st\n",
    "import matplotlib.pyplot as plt\n",
    "import numpy as np\n",
    "\n",
    "def calculate_do(initial_do, volumetric_mass_transfer_coefficient, saturation_concentration_of_oxygen, time_hours):\n",
    "    do_values = [initial_do]\n",
    "    \n",
    "    transfer_rate = volumetric_mass_transfer_coefficient * (saturation_concentration_of_oxygen - initial_do)\n",
    "    consumption_rate = (saturation_concentration_of_oxygen - initial_do) / time_hours\n",
    "\n",
    "    for _ in range(time_hours):\n",
    "        do_change = transfer_rate - consumption_rate\n",
    "        do_values.append(do_values[-1] + do_change)\n",
    "\n",
    "    return do_values, consumption_rate\n",
    "\n",
    "st.title(\"Oxygen Transfer Rate Calculator\")\n",
    "\n",
    "initial_do = st.number_input(\"Initial Dissolved Oxygen (mg/L)\", min_value=0.0, max_value=20.0, value=8.0)\n",
    "volumetric_mass_transfer_coefficient = st.number_input(\"Volumetric Mass Transfer Coefficient\", min_value=0.0, value=0.1)\n",
    "saturation_concentration_of_oxygen = st.number_input(\"Saturation Concentration of Oxygen (mg/L)\", min_value=0.0, max_value=20.0, value=9.0)\n",
    "time_hours = st.number_input(\"Time (hours)\", min_value=1, max_value=100, value=10)\n",
    "\n",
    "if st.button(\"Calculate\"):\n",
    "    do_values, consumption_rate = calculate_do(initial_do, volumetric_mass_transfer_coefficient, saturation_concentration_of_oxygen, time_hours)\n",
    "\n",
    "    st.write(f\"Consumption Rate: {consumption_rate} mg/L per hour\")\n",
    "\n",
    "    plt.plot(range(time_hours + 1), do_values)\n",
    "    plt.xlabel(\"Time (hours)\")\n",
    "    plt.ylabel(\"Dissolved Oxygen (mg/L)\")\n",
    "    plt.title(\"Dissolved Oxygen Over Time\")\n",
    "    st.pyplot(plt)\n",
    "\"\"\"\n",
    "\n",
    "# Save the Python code to a file named rate_app.py\n",
    "with open('rate_app.py', 'w') as f:\n",
    "    f.write(app_code)\n"
   ]
  },
  {
   "cell_type": "code",
   "execution_count": 3,
   "metadata": {},
   "outputs": [],
   "source": [
    "# Execute the streamlit App by running the .py file on the Terminal of VS Code (code below):\n",
    "\n",
    "# streamlit run rate_app.py"
   ]
  }
 ],
 "metadata": {
  "kernelspec": {
   "display_name": "Python 3",
   "language": "python",
   "name": "python3"
  },
  "language_info": {
   "codemirror_mode": {
    "name": "ipython",
    "version": 3
   },
   "file_extension": ".py",
   "mimetype": "text/x-python",
   "name": "python",
   "nbconvert_exporter": "python",
   "pygments_lexer": "ipython3",
   "version": "3.12.4"
  }
 },
 "nbformat": 4,
 "nbformat_minor": 2
}
